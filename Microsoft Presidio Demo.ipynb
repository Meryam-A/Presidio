{
 "cells": [
  {
   "cell_type": "markdown",
   "id": "1d24c398",
   "metadata": {
    "hide_input": false
   },
   "source": [
    "# Microsoft Presidio Demo"
   ]
  },
  {
   "cell_type": "code",
   "execution_count": null,
   "id": "bb1a1d95",
   "metadata": {
    "hide_input": true,
    "scrolled": false
   },
   "outputs": [],
   "source": [
    "# download presidio\n",
    "!pip install presidio_analyzer presidio_anonymizer\n",
    "!python -m spacy download en_core_web_lg"
   ]
  },
  {
   "cell_type": "code",
   "execution_count": null,
   "id": "ec74a87b",
   "metadata": {},
   "outputs": [],
   "source": [
    "# If you encounter issues with loading the spacy model try\n",
    "\n",
    "#pip install typing-inspect==0.8.0 typing_extensions==4.4.0\n",
    "#pip install spacy==3.1.2"
   ]
  },
  {
   "cell_type": "code",
   "execution_count": 1,
   "id": "fa15cb75",
   "metadata": {
    "hide_input": false
   },
   "outputs": [],
   "source": [
    "from presidio_analyzer import AnalyzerEngine\n",
    "from presidio_anonymizer import AnonymizerEngine"
   ]
  },
  {
   "cell_type": "markdown",
   "id": "69c35d67",
   "metadata": {
    "hide_input": false
   },
   "source": [
    "## 1. Detect sensitive data in text"
   ]
  },
  {
   "cell_type": "code",
   "execution_count": 2,
   "id": "ce57135b",
   "metadata": {
    "hide_input": true
   },
   "outputs": [],
   "source": [
    "text_to_anonymize = \"His name is Mr. Bill Jones and his phone number is 212-777-6666 his email address is bill22@gmail.com and his ID is 123456\""
   ]
  },
  {
   "cell_type": "code",
   "execution_count": 3,
   "id": "15d66c07",
   "metadata": {
    "hide_input": false,
    "scrolled": false
   },
   "outputs": [
    {
     "name": "stdout",
     "output_type": "stream",
     "text": [
      "[type: EMAIL_ADDRESS, start: 85, end: 101, score: 1.0, type: PERSON, start: 16, end: 26, score: 0.85, type: PHONE_NUMBER, start: 51, end: 63, score: 0.75]\n"
     ]
    }
   ],
   "source": [
    "analyzer = AnalyzerEngine()\n",
    "analyzer_results = analyzer.analyze(text=text_to_anonymize, entities=[\"PHONE_NUMBER\", \"PERSON\", \"EMAIL_ADDRESS\"], language='en')\n",
    "\n",
    "print(analyzer_results)"
   ]
  },
  {
   "cell_type": "code",
   "execution_count": 4,
   "id": "9c6247cb",
   "metadata": {
    "hide_input": true
   },
   "outputs": [
    {
     "name": "stdout",
     "output_type": "stream",
     "text": [
      "bill22@gmail.com EMAIL_ADDRESS\n",
      "Bill Jones PERSON\n",
      "212-777-6666 PHONE_NUMBER\n"
     ]
    }
   ],
   "source": [
    "for result in analyzer_results : \n",
    "    print(text_to_anonymize[result.start:result.end], result.entity_type)"
   ]
  },
  {
   "cell_type": "markdown",
   "id": "11d1e226",
   "metadata": {
    "hide_input": true
   },
   "source": [
    "## 2. Add custom entity"
   ]
  },
  {
   "cell_type": "code",
   "execution_count": 5,
   "id": "84cd8d67",
   "metadata": {
    "hide_input": true
   },
   "outputs": [],
   "source": [
    "# An entity ID to identify any token that contains 6 digits\n",
    "\n",
    "from presidio_analyzer import Pattern, PatternRecognizer\n",
    "\n",
    "# Define the regex pattern in a Presidio `Pattern` object:\n",
    "id_pattern = Pattern(name=\"id_pattern\", regex=\"\\d{6}\", score=0.5)\n",
    "\n",
    "# Define the recognizer with one or more patterns\n",
    "id_recognizer = PatternRecognizer(\n",
    "    supported_entity=\"ID\", patterns=[id_pattern]\n",
    ")\n",
    "\n",
    "# Add custom recognizer to analyzer\n",
    "\n",
    "analyzer.registry.add_recognizer(id_recognizer)"
   ]
  },
  {
   "cell_type": "code",
   "execution_count": 6,
   "id": "d5e97047",
   "metadata": {
    "hide_input": true,
    "scrolled": true
   },
   "outputs": [
    {
     "name": "stdout",
     "output_type": "stream",
     "text": [
      "[type: EMAIL_ADDRESS, start: 85, end: 101, score: 1.0, type: PERSON, start: 16, end: 26, score: 0.85, type: PHONE_NUMBER, start: 51, end: 63, score: 0.75, type: ID, start: 116, end: 122, score: 0.5]\n"
     ]
    }
   ],
   "source": [
    "analyzer_results = analyzer.analyze(text=text_to_anonymize, entities=[\"PHONE_NUMBER\", \"PERSON\", \"EMAIL_ADDRESS\", \"ID\"], language='en')\n",
    "\n",
    "print(analyzer_results)"
   ]
  },
  {
   "cell_type": "code",
   "execution_count": 7,
   "id": "e1ed2921",
   "metadata": {
    "hide_input": true
   },
   "outputs": [
    {
     "name": "stdout",
     "output_type": "stream",
     "text": [
      "bill22@gmail.com EMAIL_ADDRESS\n",
      "Bill Jones PERSON\n",
      "212-777-6666 PHONE_NUMBER\n",
      "123456 ID\n"
     ]
    }
   ],
   "source": [
    "for result in analyzer_results : \n",
    "    print(text_to_anonymize[result.start:result.end], result.entity_type)"
   ]
  },
  {
   "cell_type": "markdown",
   "id": "0a532164",
   "metadata": {},
   "source": [
    "## 3. Anonymize sensitive data"
   ]
  },
  {
   "cell_type": "code",
   "execution_count": 8,
   "id": "8d4ed35d",
   "metadata": {
    "hide_input": false,
    "scrolled": true
   },
   "outputs": [
    {
     "name": "stdout",
     "output_type": "stream",
     "text": [
      "text: His name is Mr. <PERSON> and his phone number is <PHONE_NUMBER> his email address is <EMAIL_ADDRESS> and his ID is <ID>\n"
     ]
    }
   ],
   "source": [
    "anonymizer = AnonymizerEngine()\n",
    "\n",
    "anonymized_results = anonymizer.anonymize(\n",
    "    text=text_to_anonymize,\n",
    "    analyzer_results=analyzer_results\n",
    ")\n",
    "\n",
    "print(f\"text: {anonymized_results.text}\")\n"
   ]
  },
  {
   "cell_type": "markdown",
   "id": "8681cc06",
   "metadata": {},
   "source": [
    "## 4. Custom anonymization"
   ]
  },
  {
   "cell_type": "code",
   "execution_count": 9,
   "id": "cb081155",
   "metadata": {
    "hide_input": false,
    "scrolled": true
   },
   "outputs": [
    {
     "name": "stdout",
     "output_type": "stream",
     "text": [
      "text: His name is Mr. <ANONYMIZED> and his phone number is ************ his email address is <ANONYMIZED> and his ID is <ANONYMIZED>\n"
     ]
    }
   ],
   "source": [
    "from presidio_anonymizer.entities import OperatorConfig\n",
    "\n",
    "operators={ \"PHONE_NUMBER\": OperatorConfig(\"mask\", {\"type\": \"mask\", \"masking_char\" : \"*\", \"chars_to_mask\" : 12, \"from_end\" : True}),\n",
    "          \"DEFAULT\": OperatorConfig(\"replace\", {\"new_value\": \"<ANONYMIZED>\"})}\n",
    "\n",
    "custom_anonymized_results = anonymizer.anonymize(\n",
    "    text=text_to_anonymize,\n",
    "    analyzer_results=analyzer_results,\n",
    "    operators = operators\n",
    ")\n",
    "\n",
    "print(f\"text: {custom_anonymized_results.text}\")"
   ]
  }
 ],
 "metadata": {
  "hide_input": false,
  "kernelspec": {
   "display_name": "Python 3 (ipykernel)",
   "language": "python",
   "name": "python3"
  },
  "language_info": {
   "codemirror_mode": {
    "name": "ipython",
    "version": 3
   },
   "file_extension": ".py",
   "mimetype": "text/x-python",
   "name": "python",
   "nbconvert_exporter": "python",
   "pygments_lexer": "ipython3",
   "version": "3.8.19"
  }
 },
 "nbformat": 4,
 "nbformat_minor": 5
}
